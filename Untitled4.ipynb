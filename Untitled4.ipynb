{
  "nbformat": 4,
  "nbformat_minor": 0,
  "metadata": {
    "colab": {
      "name": "Untitled4.ipynb",
      "provenance": [],
      "collapsed_sections": [],
      "include_colab_link": true
    },
    "kernelspec": {
      "name": "python3",
      "display_name": "Python 3"
    }
  },
  "cells": [
    {
      "cell_type": "markdown",
      "metadata": {
        "id": "view-in-github",
        "colab_type": "text"
      },
      "source": [
        "<a href=\"https://colab.research.google.com/github/AlizaShamsi/Homework/blob/main/Untitled4.ipynb\" target=\"_parent\"><img src=\"https://colab.research.google.com/assets/colab-badge.svg\" alt=\"Open In Colab\"/></a>"
      ]
    },
    {
      "cell_type": "code",
      "metadata": {
        "id": "zadiIW5lokOD"
      },
      "source": [
        "import numpy as np"
      ],
      "execution_count": null,
      "outputs": []
    },
    {
      "cell_type": "code",
      "metadata": {
        "colab": {
          "base_uri": "https://localhost:8080/"
        },
        "id": "DM16BNWpombE",
        "outputId": "18b643a7-7ad3-43b7-849b-0378f644bf5f"
      },
      "source": [
        "np.random.random(50)"
      ],
      "execution_count": null,
      "outputs": [
        {
          "output_type": "execute_result",
          "data": {
            "text/plain": [
              "array([0.86986896, 0.47310019, 0.04926613, 0.33352568, 0.95578608,\n",
              "       0.71986849, 0.6988649 , 0.75044654, 0.23665344, 0.43889037,\n",
              "       0.50450988, 0.57308673, 0.69977554, 0.08029121, 0.63489631,\n",
              "       0.18677533, 0.78010587, 0.91864297, 0.95792391, 0.76657282,\n",
              "       0.85098011, 0.47449641, 0.68888683, 0.26394598, 0.37525376,\n",
              "       0.39388684, 0.24292689, 0.91391512, 0.67947595, 0.53742109,\n",
              "       0.5946723 , 0.61905971, 0.70418206, 0.70435115, 0.93970925,\n",
              "       0.99657506, 0.19761562, 0.364565  , 0.10768765, 0.64287067,\n",
              "       0.74125896, 0.76148618, 0.48614757, 0.78717576, 0.59890183,\n",
              "       0.64354875, 0.80269541, 0.96996512, 0.24685094, 0.56605267])"
            ]
          },
          "metadata": {
            "tags": []
          },
          "execution_count": 2
        }
      ]
    },
    {
      "cell_type": "code",
      "metadata": {
        "id": "cb4xNeTWoqca"
      },
      "source": [
        "?np.random.random"
      ],
      "execution_count": null,
      "outputs": []
    },
    {
      "cell_type": "code",
      "metadata": {
        "id": "Asi9a84mowqj"
      },
      "source": [
        "np.random.uniform?"
      ],
      "execution_count": null,
      "outputs": []
    },
    {
      "cell_type": "code",
      "metadata": {
        "id": "SlRPAs94o2Bs"
      },
      "source": [
        "%matplotlib inline"
      ],
      "execution_count": null,
      "outputs": []
    },
    {
      "cell_type": "code",
      "metadata": {
        "id": "7zfKFmLvo_Yl"
      },
      "source": [
        "import matplotlib.pyplot as plt"
      ],
      "execution_count": null,
      "outputs": []
    },
    {
      "cell_type": "code",
      "metadata": {
        "colab": {
          "base_uri": "https://localhost:8080/",
          "height": 367
        },
        "id": "x44WKvhypB3O",
        "outputId": "3fcecc1e-97e2-4c10-a48c-398b79567d8e"
      },
      "source": [
        "plt.hist(np.random.random(50000))"
      ],
      "execution_count": null,
      "outputs": [
        {
          "output_type": "execute_result",
          "data": {
            "text/plain": [
              "(array([4889., 5060., 5009., 5009., 5082., 4968., 5051., 4995., 4989.,\n",
              "        4948.]),\n",
              " array([1.32275446e-05, 1.00011564e-01, 2.00009900e-01, 3.00008237e-01,\n",
              "        4.00006573e-01, 5.00004909e-01, 6.00003246e-01, 7.00001582e-01,\n",
              "        7.99999918e-01, 8.99998255e-01, 9.99996591e-01]),\n",
              " <a list of 10 Patch objects>)"
            ]
          },
          "metadata": {
            "tags": []
          },
          "execution_count": 11
        },
        {
          "output_type": "display_data",
          "data": {
            "image/png": "[encoded data removed]",
            "text/plain": [
              "<Figure size 432x288 with 1 Axes>"
            ]
          },
          "metadata": {
            "tags": [],
            "needs_background": "light"
          }
        }
      ]
    },
    {
      "cell_type": "code",
      "metadata": {
        "colab": {
          "base_uri": "https://localhost:8080/",
          "height": 367
        },
        "id": "kJMw0sufpE0S",
        "outputId": "b2afdd3e-0e04-4866-abc9-931eb95e75d9"
      },
      "source": [
        "plt.hist(np.random.randn(50000))"
      ],
      "execution_count": null,
      "outputs": [
        {
          "output_type": "execute_result",
          "data": {
            "text/plain": [
              "(array([6.0000e+00, 1.1500e+02, 1.1090e+03, 5.4230e+03, 1.3105e+04,\n",
              "        1.6235e+04, 1.0171e+04, 3.2960e+03, 5.0000e+02, 4.0000e+01]),\n",
              " array([-4.48517341, -3.64099514, -2.79681686, -1.95263859, -1.10846032,\n",
              "        -0.26428204,  0.57989623,  1.4240745 ,  2.26825278,  3.11243105,\n",
              "         3.95660932]),\n",
              " <a list of 10 Patch objects>)"
            ]
          },
          "metadata": {
            "tags": []
          },
          "execution_count": 12
        },
        {
          "output_type": "display_data",
          "data": {
            "image/png": "[encoded data removed]",
            "text/plain": [
              "<Figure size 432x288 with 1 Axes>"
            ]
          },
          "metadata": {
            "tags": [],
            "needs_background": "light"
          }
        }
      ]
    },
    {
      "cell_type": "code",
      "metadata": {
        "id": "ORyTOtfipqW8"
      },
      "source": [
        "N = 100000000\n",
        "X = np.random.uniform(low=-1.0, high=1.0, size=N)\n",
        "Y = np.random.uniform(low=-1.0, high=1.0, size=N)"
      ],
      "execution_count": null,
      "outputs": []
    },
    {
      "cell_type": "code",
      "metadata": {
        "colab": {
          "base_uri": "https://localhost:8080/"
        },
        "id": "lps5362hrvHS",
        "outputId": "5fbcc87d-3ab6-424d-b4d5-14c265ee6439"
      },
      "source": [
        "X.shape, Y.shape"
      ],
      "execution_count": null,
      "outputs": [
        {
          "output_type": "execute_result",
          "data": {
            "text/plain": [
              "((100000000,), (100000000,))"
            ]
          },
          "metadata": {
            "tags": []
          },
          "execution_count": 38
        }
      ]
    },
    {
      "cell_type": "code",
      "metadata": {
        "colab": {
          "base_uri": "https://localhost:8080/"
        },
        "id": "CtGF642JrxDJ",
        "outputId": "417ab24c-8e02-4649-8d9b-1e2bd378a477"
      },
      "source": [
        "np.sum(1*(X**2 + Y**2 <= 1))"
      ],
      "execution_count": null,
      "outputs": [
        {
          "output_type": "execute_result",
          "data": {
            "text/plain": [
              "78529168"
            ]
          },
          "metadata": {
            "tags": []
          },
          "execution_count": 39
        }
      ]
    },
    {
      "cell_type": "code",
      "metadata": {
        "colab": {
          "base_uri": "https://localhost:8080/"
        },
        "id": "aUtVEC3jr1yq",
        "outputId": "5add0c1f-8a50-496c-946f-b3a7451ec82b"
      },
      "source": [
        "4*np.sum(1*(X**2 + Y**2 <= 1))/N"
      ],
      "execution_count": null,
      "outputs": [
        {
          "output_type": "execute_result",
          "data": {
            "text/plain": [
              "3.14116672"
            ]
          },
          "metadata": {
            "tags": []
          },
          "execution_count": 40
        }
      ]
    },
    {
      "cell_type": "code",
      "metadata": {
        "colab": {
          "base_uri": "https://localhost:8080/"
        },
        "id": "O0iPycJOsbl4",
        "outputId": "31b9f70e-c391-43ba-8b70-e58b5fccb61a"
      },
      "source": [
        "np.mean(np.random.choice(['H', 'T'], size=1000000)=='H')"
      ],
      "execution_count": null,
      "outputs": [
        {
          "output_type": "execute_result",
          "data": {
            "text/plain": [
              "0.500284"
            ]
          },
          "metadata": {
            "tags": []
          },
          "execution_count": 48
        }
      ]
    },
    {
      "cell_type": "code",
      "metadata": {
        "id": "hj2ddCVnxHsT"
      },
      "source": [
        ""
      ],
      "execution_count": null,
      "outputs": []
    }
  ]
}